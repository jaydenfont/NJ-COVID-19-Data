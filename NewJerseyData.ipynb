{
 "cells": [
  {
   "cell_type": "code",
   "execution_count": null,
   "metadata": {},
   "outputs": [],
   "source": [
    "# To enable autcomplete\n",
    "%config IPCompleter.greedy=True"
   ]
  },
  {
   "cell_type": "code",
   "execution_count": null,
   "metadata": {},
   "outputs": [],
   "source": [
    "from datetime import datetime # to get current date and time\n",
    "import pandas as pd\n",
    "import numpy as np\n",
    "from matplotlib import pyplot as plt\n",
    "\n",
    "%matplotlib inline\n",
    "\n",
    "# Raw state csv pulled from New York Times Github\n",
    "url1 = 'https://raw.githubusercontent.com/nytimes/covid-19-data/master/us-states.csv'\n",
    "states= pd.read_csv(url1)\n",
    "\n",
    "# Raw county csv pulled from New York Times Github\n",
    "url2 = 'https://raw.githubusercontent.com/nytimes/covid-19-data/master/us-counties.csv'\n",
    "county = pd.read_csv(url2)"
   ]
  },
  {
   "cell_type": "code",
   "execution_count": null,
   "metadata": {},
   "outputs": [],
   "source": [
    "states"
   ]
  },
  {
   "cell_type": "code",
   "execution_count": null,
   "metadata": {},
   "outputs": [],
   "source": [
    "# Isolate state data for New Jersey\n",
    "\n",
    "# loc isolates data based on labels, save as new dataframe\n",
    "nj = states.loc[states['state'] == \"New Jersey\"]\n",
    "nj"
   ]
  },
  {
   "cell_type": "code",
   "execution_count": null,
   "metadata": {},
   "outputs": [],
   "source": [
    "# Determine days of outbreak\n",
    "\n",
    "totalDays = nj.shape[0] # get number of rows containing NJ\n",
    "njLength = np.linspace(1,25,25)\n",
    "njCases = np.array(nj[\"cases\"])"
   ]
  },
  {
   "cell_type": "code",
   "execution_count": null,
   "metadata": {},
   "outputs": [],
   "source": [
    "# Get current date and time\n",
    "\n",
    "# now method returns date and time\n",
    "now = datetime.now()\n",
    "# I returns hour in 12 hour format, p returns AM or PM based on time\n",
    "dateAndTime = now.strftime(\"%m/%d/%Y %I:%M %p\")"
   ]
  },
  {
   "cell_type": "code",
   "execution_count": null,
   "metadata": {},
   "outputs": [],
   "source": [
    "# Get last date of available data\n",
    "recentDate = county.at[county.index[-1], 'date']\n",
    "\n",
    "# Isolate NJ Counties for given date\n",
    "njCountyList = county[(county['state'] == \"New Jersey\") & (county[\"date\"] == recentDate)]\n",
    "\n",
    "njCountyList"
   ]
  },
  {
   "cell_type": "code",
   "execution_count": null,
   "metadata": {},
   "outputs": [],
   "source": [
    "\n",
    "# Create figure object with two subplots oriented horizontally\n",
    "\n",
    "figure, (sc, ba) = plt.subplots(1,2, figsize=(15,5))\n",
    "\n",
    "# Plot NJ cases vs time\n",
    "\n",
    "sc.scatter(njLength, njCases)\n",
    "\n",
    "sTitle = \"Cases of COVID-19 in New Jersey\\n(accurate as of \" + recentDate + \")\"\n",
    "sc.set_title(sTitle)\n",
    "sc.set_xlabel(\"Day of Outbreak\")\n",
    "sc.set_ylabel(\"Number of Cases\")\n",
    "\n",
    "# adjust ticks to show all days\n",
    "xticks = np.arange(1,njLength.max()+1,1)\n",
    "sc.set_xticks(xticks); # semicolon suppresses output of this function\n",
    "\n",
    "# Create box label\n",
    "labelText = \"Current number of cases = \" + str(njCases.max())\n",
    "box = dict(boxstyle = 'round', facecolor = 'white')\n",
    "sc.text(9, 8000,labelText,bbox=box);\n",
    "\n",
    "# Plot cases per county\n",
    "\n",
    "ba.bar(njCountyList['county'], njCountyList['cases'] )\n",
    "\n",
    "bTitle = \"Cases per County\\n(accurate as of \" + recentDate + \")\"\n",
    "ba.set_xticklabels(njCountyList['county'], rotation = 90);\n",
    "ba.set_title(bTitle);\n",
    "\n",
    "print(\"last updated at: {}\".format(dateAndTime))"
   ]
  }
 ],
 "metadata": {
  "kernelspec": {
   "display_name": "Python 3",
   "language": "python",
   "name": "python3"
  },
  "language_info": {
   "codemirror_mode": {
    "name": "ipython",
    "version": 3
   },
   "file_extension": ".py",
   "mimetype": "text/x-python",
   "name": "python",
   "nbconvert_exporter": "python",
   "pygments_lexer": "ipython3",
   "version": "3.7.4"
  }
 },
 "nbformat": 4,
 "nbformat_minor": 2
}
